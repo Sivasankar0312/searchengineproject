{
 "cells": [
  {
   "cell_type": "code",
   "execution_count": 1,
   "id": "9847764a",
   "metadata": {},
   "outputs": [],
   "source": [
    "import chromadb\n",
    "chroma_client = chromadb.Client()"
   ]
  },
  {
   "cell_type": "code",
   "execution_count": 1,
   "id": "f5a0accc",
   "metadata": {},
   "outputs": [],
   "source": [
    "import pandas as pd"
   ]
  },
  {
   "cell_type": "code",
   "execution_count": 1,
   "id": "d7aff084",
   "metadata": {},
   "outputs": [],
   "source": [
    "import pandas as pd"
   ]
  },
  {
   "cell_type": "code",
   "execution_count": 2,
   "id": "0b2a467e",
   "metadata": {},
   "outputs": [],
   "source": [
    "df=pd.read_csv(r\"C:\\Users\\sspon\\Downloads\\new.csv\")"
   ]
  },
  {
   "cell_type": "code",
   "execution_count": 3,
   "id": "7ff66275",
   "metadata": {},
   "outputs": [
    {
     "name": "stdout",
     "output_type": "stream",
     "text": [
      "<class 'pandas.core.frame.DataFrame'>\n",
      "RangeIndex: 24749 entries, 0 to 24748\n",
      "Data columns (total 5 columns):\n",
      " #   Column      Non-Null Count  Dtype \n",
      "---  ------      --------------  ----- \n",
      " 0   Unnamed: 0  24749 non-null  int64 \n",
      " 1   num         24749 non-null  int64 \n",
      " 2   name        24749 non-null  object\n",
      " 3   new_chunk   24749 non-null  object\n",
      " 4   embeddings  24749 non-null  object\n",
      "dtypes: int64(2), object(3)\n",
      "memory usage: 966.9+ KB\n"
     ]
    }
   ],
   "source": [
    "df.info()"
   ]
  },
  {
   "cell_type": "code",
   "execution_count": 15,
   "id": "1b324736",
   "metadata": {},
   "outputs": [
    {
     "data": {
      "text/plain": [
       "'[0.01731950044631958, 0.07423966377973557, -0.04430431127548218, -0.03714515268802643, 0.008038793690502644, 0.0230570025742054, -0.028999105095863342, -0.10662324726581573, 0.023255448788404465, 0.028019942343235016, 0.02197926864027977, -0.08728716522455215, 0.08333119750022888, -0.04089152440428734, 0.012979649938642979, -0.003593298140913248, -0.01709355227649212, 0.009361818432807922, -0.053394343703985214, -0.14371974766254425, 0.007628456689417362, 0.020521841943264008, -0.02930951863527298, -0.02088664472103119, -0.030076002702116966, 0.10515819489955902, -0.060069140046834946, -0.0036380633246153593, 0.024395551532506943, -0.0285260621458292, -0.03168008103966713, 0.03522550314664841, 0.05204962193965912, 0.004830323625355959, -0.02256738767027855, 0.07684115320444107, 0.014192439615726471, 0.10258666425943375, 0.014568939805030823, -0.019705191254615784, 0.051715269684791565, -0.003888374427333474, -0.0019840651657432318, -0.027700331062078476, 0.0019589809235185385, -0.042267438024282455, -0.07499605417251587, 0.002286262111738324, 0.056674301624298096, -0.026200614869594574, -0.0871516540646553, 0.0007821869803592563, 0.09103747457265854, -0.004142080899327993, -0.07200372219085693, -0.09678468108177185, 0.0048800306394696236, 0.015833571553230286, -0.025882523506879807, -0.07675114274024963, -0.043049659579992294, 0.05926520749926567, 0.036445990204811096, 0.006817317102104425, -0.03038790076971054, -0.043028876185417175, -0.013316086493432522, 0.02581821009516716, -0.04673498123884201, 0.03838774189352989, -0.10351532697677612, 0.002116485731676221, 0.0027492998633533716, 0.05510937049984932, -0.15262791514396667, -0.06154393404722214, -0.02668260596692562, -0.1385515332221985, -0.12602603435516357, 0.035915493965148926, 0.031985655426979065, -0.0014317188179120421, 0.0028996719047427177, -0.060854848474264145, -0.059053685516119, 0.02871089056134224, -0.033080507069826126, -0.00955120474100113, -0.016963843256235123, -0.11019900441169739, 0.012480594217777252, -0.006439767777919769, -0.014490609988570213, 0.01015008520334959, 0.007101576309651136, -0.05326249450445175, -0.0008754462469369173, -0.01345949899405241, -0.06638716906309128, 0.05537101626396179, 0.05611753836274147, 0.017170151695609093, 0.018227824941277504, -0.01930887997150421, 0.013025813736021519, 0.028799857944250107, -0.05043814703822136, 0.0340149812400341, -0.06370790302753448, -0.021290991455316544, -0.10496874898672104, -0.026154281571507454, -0.036785971373319626, -0.09000522643327713, 0.040576305240392685, 0.011302072554826736, -0.05276349559426308, -0.019655965268611908, -0.12669998407363892, 0.04101288318634033, -0.09565574675798416, 0.024428341537714005, 0.03275327757000923, 0.07587287575006485, 0.019737636670470238, 0.02300017513334751, -0.014642585068941116, 3.070314543341424e-32, -0.02200935035943985, 0.005092396400868893, 0.005167750176042318, -0.002344640903174877, -0.035560980439186096, -0.010650279000401497, -0.020182184875011444, 0.05191986262798309, -0.03910381346940994, -0.06663014739751816, 0.07216112315654755, -0.07545272260904312, -0.025631489232182503, 0.019311226904392242, -0.05684809759259224, -0.050966765731573105, 0.031567297875881195, -0.09679605066776276, 0.005234787240624428, -0.03411509096622467, -0.018336065113544464, 0.04614277184009552, -0.028701966628432274, -0.008872417733073235, -0.0012666842667385936, -0.005979509092867374, 0.03545492887496948, -0.004139802884310484, 0.0650634914636612, 0.05112898349761963, 0.002434989670291543, -0.019684921950101852, -0.011972149834036827, -0.09547404199838638, -0.043468087911605835, 0.04899745434522629, -0.023029815405607224, -0.007070183753967285, -0.022033236920833588, -0.1433151811361313, -0.048340458422899246, -0.008959157392382622, 0.029122069478034973, 0.015352423302829266, 1.8614543932926608e-06, 0.02400793693959713, 0.0049825021997094154, -0.0021253840532153845, 0.007990538142621517, 0.01545958872884512, -0.003522201906889677, 0.02564368024468422, 0.015370151028037071, 0.0038718811701983213, 0.020782535895705223, -0.06337199360132217, -0.020842421799898148, 0.0960334986448288, 0.00657306332141161, 0.06951683759689331, -0.04673003777861595, -0.06089822202920914, -0.07214925438165665, 0.006547410506755114, -0.012061456218361855, -0.07809761166572571, 0.050862982869148254, 0.03302859887480736, -0.0215418990701437, 0.13176727294921875, 0.003639710834249854, 0.035644806921482086, 0.021556438878178596, 0.135952889919281, 0.022800913080573082, 0.011528764851391315, 0.05703744664788246, -0.09663520753383636, 0.010277782566845417, 0.03600649908185005, -0.00269860471598804, -0.020334536209702492, -0.043419141322374344, 0.017727702856063843, 0.06287804991006851, -0.018311502411961555, 0.048313893377780914, -0.03872695192694664, -0.08350715041160583, -0.09681041538715363, 0.022184766829013824, 0.04898546636104584, 0.10367295891046524, -0.07141867280006409, -0.05173572152853012, -2.801188344330126e-32, 0.04497026279568672, 0.10893066972494125, 0.021392231807112694, 0.09244204312562943, 0.04340207204222679, -0.03131071850657463, 0.009566821157932281, 0.016970250755548477, 0.0671982541680336, 0.02951221540570259, 0.006394484080374241, -0.013765824027359486, -0.02764340303838253, -0.00836372934281826, 0.08279318362474442, -0.09291260689496994, -0.006736071314662695, 0.06531054526567459, -0.05947953090071678, 0.045325420796871185, -0.053596921265125275, 0.06580456346273422, -0.06760283559560776, -0.02906016819179058, 0.012641207315027714, 0.0768195316195488, -0.014304287731647491, 0.047877147793769836, 0.022883087396621704, 0.025903359055519104, 0.026503300294280052, -0.02811630815267563, -0.17416158318519592, 0.05278635025024414, -0.0079702353104949, -0.02909472957253456, -0.04175366461277008, 0.11032141745090485, -0.09266604483127594, 0.007506555877625942, -0.027175001800060272, 0.0562126450240612, -0.016770122572779655, -0.038952987641096115, 0.0008907301817089319, 0.011541088111698627, -0.046097785234451294, 0.023061392828822136, 0.051168400794267654, -0.09115742892026901, -0.039840441197156906, 0.02689852938055992, 0.011383420787751675, 0.007761708460748196, 0.11101610213518143, -0.0056321085430681705, -0.046477310359478, 0.01873886212706566, -0.07022122293710709, -0.05947817489504814, -0.016590388491749763, 0.02888467162847519, 0.03287804499268532, 0.041164856404066086, 0.04281042516231537, -0.04060007631778717, -0.0026908295694738626, 0.06095303222537041, -0.05890752747654915, 0.03166647255420685, 0.0029221009463071823, -0.06106051430106163, -0.14379234611988068, -0.039849214255809784, 0.042647287249565125, 0.08804428577423096, 0.02724081091582775, 0.01512287650257349, -0.043228015303611755, -0.0467391274869442, 0.015685083344578743, -0.06694173812866211, -0.07838302105665207, 0.020377175882458687, 0.08360877633094788, 0.02563861571252346, -0.04137421026825905, -0.04342703893780708, 0.06801218539476395, 0.058568257838487625, 0.008813818916678429, -0.025319132953882217, 0.04349081963300705, -0.034165531396865845, -0.019498677924275398, -7.350498520963811e-08, -0.04007185623049736, -0.010309353470802307, 0.03868698701262474, 0.009356550872325897, 0.079569973051548, 0.04578836262226105, 0.018784765154123306, -0.05291571468114853, -0.03997918218374252, 0.008348969742655754, -0.013689291663467884, 0.04625827819108963, -0.005524002015590668, 0.02374386601150036, -0.008815544657409191, 0.012618761509656906, -0.01920291967689991, -0.05575333163142204, 0.03434935212135315, -0.07723790407180786, 0.0015558963641524315, -0.08246012777090073, -0.02270694635808468, 0.014114375226199627, -0.016123784705996513, 0.013072690926492214, -0.09594274312257767, 0.031112657859921455, -0.001658428693190217, 0.04144428297877312, 0.08550958335399628, -0.03486156463623047, -0.01882013864815235, -0.04532661288976669, 0.10246509313583374, 0.024592209607362747, -0.10448744148015976, -0.03184910863637924, -0.026353823021054268, 0.008835071697831154, 0.017215518280863762, 0.033385273069143295, 0.06432747840881348, 0.017096370458602905, 0.02849692851305008, -0.008856278844177723, 0.04986326023936272, 0.003966622985899448, -0.010046174749732018, -0.05327724665403366, -0.01398212369531393, 0.04711936414241791, 0.05351903289556503, 0.01807461492717266, 0.02006915584206581, -0.015629537403583527, -0.0036027829628437757, 0.050377681851387024, 0.07700921595096588, -0.03309185802936554, 0.12661240994930267, -0.0328703410923481, 0.04670749232172966, -0.03238091617822647]'"
      ]
     },
     "execution_count": 15,
     "metadata": {},
     "output_type": "execute_result"
    }
   ],
   "source": [
    "df['embeddings'].iloc[0]"
   ]
  },
  {
   "cell_type": "code",
   "execution_count": null,
   "id": "13ff30a6",
   "metadata": {},
   "outputs": [],
   "source": []
  },
  {
   "cell_type": "code",
   "execution_count": null,
   "id": "ef2e3649",
   "metadata": {},
   "outputs": [],
   "source": []
  },
  {
   "cell_type": "code",
   "execution_count": 9,
   "id": "af184873",
   "metadata": {},
   "outputs": [],
   "source": [
    "df=pd.read_csv(\"E:\\demo.csv\")"
   ]
  },
  {
   "cell_type": "code",
   "execution_count": 11,
   "id": "d7e0a43c",
   "metadata": {},
   "outputs": [
    {
     "data": {
      "text/plain": [
       "0        watch video online opensubtitles free browser ...\n",
       "1        ah theres princess dawn terry blooney looney s...\n",
       "2        yumis cells episode extremely polite yumi yumi...\n",
       "3        watch video online opensubtitles free browser ...\n",
       "4        watch video online opensubtitles free browser ...\n",
       "                               ...                        \n",
       "82493    god punishing red head uses gun green chest us...\n",
       "82494    apiopensubtitlesorg deprecated please implemen...\n",
       "82495    dramatic orchestral music advertise product br...\n",
       "82496    advertise product brand contact wwwopensubtitl...\n",
       "82497    sharp whistling man hey wait wait growling cla...\n",
       "Name: file_content, Length: 82498, dtype: object"
      ]
     },
     "execution_count": 11,
     "metadata": {},
     "output_type": "execute_result"
    }
   ],
   "source": [
    "df['file_content']"
   ]
  },
  {
   "cell_type": "code",
   "execution_count": 12,
   "id": "9dc38c3d",
   "metadata": {},
   "outputs": [],
   "source": [
    "total_rows = len(df)\n",
    "thirty_percent_length = int(total_rows * 0.3)\n",
    "\n",
    "thirty_percent_df = df.iloc[:thirty_percent_length]"
   ]
  },
  {
   "cell_type": "code",
   "execution_count": 16,
   "id": "c856bae7",
   "metadata": {},
   "outputs": [
    {
     "data": {
      "text/plain": [
       "Index(['Unnamed: 0', 'num', 'name', 'file_content'], dtype='object')"
      ]
     },
     "execution_count": 16,
     "metadata": {},
     "output_type": "execute_result"
    }
   ],
   "source": [
    "thirty_percent_df.columns"
   ]
  },
  {
   "cell_type": "code",
   "execution_count": 17,
   "id": "c87067cb",
   "metadata": {},
   "outputs": [
    {
     "name": "stderr",
     "output_type": "stream",
     "text": [
      "C:\\Users\\sspon\\anacon\\lib\\site-packages\\pandas\\core\\frame.py:4308: SettingWithCopyWarning: \n",
      "A value is trying to be set on a copy of a slice from a DataFrame\n",
      "\n",
      "See the caveats in the documentation: https://pandas.pydata.org/pandas-docs/stable/user_guide/indexing.html#returning-a-view-versus-a-copy\n",
      "  return super().drop(\n"
     ]
    }
   ],
   "source": [
    "thirty_percent_df.drop(['Unnamed: 0'],axis=1,inplace=True)"
   ]
  },
  {
   "cell_type": "code",
   "execution_count": 18,
   "id": "801154d7",
   "metadata": {
    "scrolled": true
   },
   "outputs": [
    {
     "data": {
      "text/html": [
       "<div>\n",
       "<style scoped>\n",
       "    .dataframe tbody tr th:only-of-type {\n",
       "        vertical-align: middle;\n",
       "    }\n",
       "\n",
       "    .dataframe tbody tr th {\n",
       "        vertical-align: top;\n",
       "    }\n",
       "\n",
       "    .dataframe thead th {\n",
       "        text-align: right;\n",
       "    }\n",
       "</style>\n",
       "<table border=\"1\" class=\"dataframe\">\n",
       "  <thead>\n",
       "    <tr style=\"text-align: right;\">\n",
       "      <th></th>\n",
       "      <th>num</th>\n",
       "      <th>name</th>\n",
       "      <th>file_content</th>\n",
       "    </tr>\n",
       "  </thead>\n",
       "  <tbody>\n",
       "    <tr>\n",
       "      <th>0</th>\n",
       "      <td>9180533</td>\n",
       "      <td>the.message.(1976).eng.1cd</td>\n",
       "      <td>watch video online opensubtitles free browser ...</td>\n",
       "    </tr>\n",
       "    <tr>\n",
       "      <th>1</th>\n",
       "      <td>9180583</td>\n",
       "      <td>here.comes.the.grump.s01.e09.joltin.jack.in.bo...</td>\n",
       "      <td>ah theres princess dawn terry blooney looney s...</td>\n",
       "    </tr>\n",
       "    <tr>\n",
       "      <th>2</th>\n",
       "      <td>9180592</td>\n",
       "      <td>yumis.cells.s02.e13.episode.2.13.(2022).eng.1cd</td>\n",
       "      <td>yumis cells episode extremely polite yumi yumi...</td>\n",
       "    </tr>\n",
       "    <tr>\n",
       "      <th>3</th>\n",
       "      <td>9180594</td>\n",
       "      <td>yumis.cells.s02.e14.episode.2.14.(2022).eng.1cd</td>\n",
       "      <td>watch video online opensubtitles free browser ...</td>\n",
       "    </tr>\n",
       "    <tr>\n",
       "      <th>4</th>\n",
       "      <td>9180600</td>\n",
       "      <td>broker.(2022).eng.1cd</td>\n",
       "      <td>watch video online opensubtitles free browser ...</td>\n",
       "    </tr>\n",
       "    <tr>\n",
       "      <th>...</th>\n",
       "      <td>...</td>\n",
       "      <td>...</td>\n",
       "      <td>...</td>\n",
       "    </tr>\n",
       "    <tr>\n",
       "      <th>24744</th>\n",
       "      <td>9279492</td>\n",
       "      <td>scorpion.s04.e15.wave.goodbye.(2018).eng.1cd</td>\n",
       "      <td>walterpreviously scorpion toby thats quincy be...</td>\n",
       "    </tr>\n",
       "    <tr>\n",
       "      <th>24745</th>\n",
       "      <td>9279493</td>\n",
       "      <td>scorpion.s04.e16.nerd.wind.fire.(2018).eng.1cd</td>\n",
       "      <td>walterpreviously scorpion hey patty made cool ...</td>\n",
       "    </tr>\n",
       "    <tr>\n",
       "      <th>24746</th>\n",
       "      <td>9279494</td>\n",
       "      <td>scorpion.s04.e17.dumbster.fire.(2018).eng.1cd</td>\n",
       "      <td>walterpreviously scorpion whats thing happy al...</td>\n",
       "    </tr>\n",
       "    <tr>\n",
       "      <th>24747</th>\n",
       "      <td>9279495</td>\n",
       "      <td>scorpion.s04.e18.dork.day.afternoon.(2018).eng...</td>\n",
       "      <td>kid well run time well make youll drive lead w...</td>\n",
       "    </tr>\n",
       "    <tr>\n",
       "      <th>24748</th>\n",
       "      <td>9279496</td>\n",
       "      <td>scorpion.s04.e19.gator.done.(2018).eng.1cd</td>\n",
       "      <td>walterpreviously scorpion entire school career...</td>\n",
       "    </tr>\n",
       "  </tbody>\n",
       "</table>\n",
       "<p>24749 rows × 3 columns</p>\n",
       "</div>"
      ],
      "text/plain": [
       "           num                                               name  \\\n",
       "0      9180533                         the.message.(1976).eng.1cd   \n",
       "1      9180583  here.comes.the.grump.s01.e09.joltin.jack.in.bo...   \n",
       "2      9180592    yumis.cells.s02.e13.episode.2.13.(2022).eng.1cd   \n",
       "3      9180594    yumis.cells.s02.e14.episode.2.14.(2022).eng.1cd   \n",
       "4      9180600                              broker.(2022).eng.1cd   \n",
       "...        ...                                                ...   \n",
       "24744  9279492       scorpion.s04.e15.wave.goodbye.(2018).eng.1cd   \n",
       "24745  9279493     scorpion.s04.e16.nerd.wind.fire.(2018).eng.1cd   \n",
       "24746  9279494      scorpion.s04.e17.dumbster.fire.(2018).eng.1cd   \n",
       "24747  9279495  scorpion.s04.e18.dork.day.afternoon.(2018).eng...   \n",
       "24748  9279496         scorpion.s04.e19.gator.done.(2018).eng.1cd   \n",
       "\n",
       "                                            file_content  \n",
       "0      watch video online opensubtitles free browser ...  \n",
       "1      ah theres princess dawn terry blooney looney s...  \n",
       "2      yumis cells episode extremely polite yumi yumi...  \n",
       "3      watch video online opensubtitles free browser ...  \n",
       "4      watch video online opensubtitles free browser ...  \n",
       "...                                                  ...  \n",
       "24744  walterpreviously scorpion toby thats quincy be...  \n",
       "24745  walterpreviously scorpion hey patty made cool ...  \n",
       "24746  walterpreviously scorpion whats thing happy al...  \n",
       "24747  kid well run time well make youll drive lead w...  \n",
       "24748  walterpreviously scorpion entire school career...  \n",
       "\n",
       "[24749 rows x 3 columns]"
      ]
     },
     "execution_count": 18,
     "metadata": {},
     "output_type": "execute_result"
    }
   ],
   "source": [
    "thirty_percent_df"
   ]
  },
  {
   "cell_type": "code",
   "execution_count": 20,
   "id": "9009e955",
   "metadata": {},
   "outputs": [],
   "source": [
    "token_window = 200\n",
    "overlap_tokens = 50"
   ]
  },
  {
   "cell_type": "code",
   "execution_count": 21,
   "id": "612948cf",
   "metadata": {},
   "outputs": [],
   "source": [
    "from tqdm import tqdm\n",
    "tqdm.pandas(desc=\"Processing text\")"
   ]
  },
  {
   "cell_type": "code",
   "execution_count": 28,
   "id": "9528cada",
   "metadata": {},
   "outputs": [],
   "source": [
    "def chunk_document(document, chunk_size, overlap_size):\n",
    "    document=document.split()\n",
    "    chunks = []\n",
    "    start_idx = 0\n",
    "    while start_idx < len(document):\n",
    "        end_idx = min(start_idx + chunk_size, len(document))\n",
    "        chunks.append(' '.join(document[start_idx:end_idx]))\n",
    "        start_idx += (chunk_size - overlap_size)\n",
    "    return chunks"
   ]
  },
  {
   "cell_type": "code",
   "execution_count": 29,
   "id": "f020e718",
   "metadata": {},
   "outputs": [
    {
     "name": "stderr",
     "output_type": "stream",
     "text": [
      "Processing text: 100%|█████████████████████████████████████████████████████████| 24749/24749 [00:14<00:00, 1671.83it/s]\n",
      "<ipython-input-29-3ef920789b87>:1: SettingWithCopyWarning: \n",
      "A value is trying to be set on a copy of a slice from a DataFrame.\n",
      "Try using .loc[row_indexer,col_indexer] = value instead\n",
      "\n",
      "See the caveats in the documentation: https://pandas.pydata.org/pandas-docs/stable/user_guide/indexing.html#returning-a-view-versus-a-copy\n",
      "  thirty_percent_df['new_chunk'] = thirty_percent_df['file_content'].progress_apply(lambda x: chunk_document(x,token_window,overlap_tokens))\n"
     ]
    }
   ],
   "source": [
    "thirty_percent_df['new_chunk'] = thirty_percent_df['file_content'].progress_apply(lambda x: chunk_document(x,token_window,overlap_tokens))"
   ]
  },
  {
   "cell_type": "code",
   "execution_count": 34,
   "id": "2489c867",
   "metadata": {},
   "outputs": [
    {
     "data": {
      "text/html": [
       "<div>\n",
       "<style scoped>\n",
       "    .dataframe tbody tr th:only-of-type {\n",
       "        vertical-align: middle;\n",
       "    }\n",
       "\n",
       "    .dataframe tbody tr th {\n",
       "        vertical-align: top;\n",
       "    }\n",
       "\n",
       "    .dataframe thead th {\n",
       "        text-align: right;\n",
       "    }\n",
       "</style>\n",
       "<table border=\"1\" class=\"dataframe\">\n",
       "  <thead>\n",
       "    <tr style=\"text-align: right;\">\n",
       "      <th></th>\n",
       "      <th>num</th>\n",
       "      <th>name</th>\n",
       "      <th>file_content</th>\n",
       "      <th>new_chunk</th>\n",
       "    </tr>\n",
       "  </thead>\n",
       "  <tbody>\n",
       "    <tr>\n",
       "      <th>0</th>\n",
       "      <td>9180533</td>\n",
       "      <td>the.message.(1976).eng.1cd</td>\n",
       "      <td>watch video online opensubtitles free browser ...</td>\n",
       "      <td>[watch video online opensubtitles free browser...</td>\n",
       "    </tr>\n",
       "    <tr>\n",
       "      <th>1</th>\n",
       "      <td>9180583</td>\n",
       "      <td>here.comes.the.grump.s01.e09.joltin.jack.in.bo...</td>\n",
       "      <td>ah theres princess dawn terry blooney looney s...</td>\n",
       "      <td>[ah theres princess dawn terry blooney looney ...</td>\n",
       "    </tr>\n",
       "    <tr>\n",
       "      <th>2</th>\n",
       "      <td>9180592</td>\n",
       "      <td>yumis.cells.s02.e13.episode.2.13.(2022).eng.1cd</td>\n",
       "      <td>yumis cells episode extremely polite yumi yumi...</td>\n",
       "      <td>[yumis cells episode extremely polite yumi yum...</td>\n",
       "    </tr>\n",
       "    <tr>\n",
       "      <th>3</th>\n",
       "      <td>9180594</td>\n",
       "      <td>yumis.cells.s02.e14.episode.2.14.(2022).eng.1cd</td>\n",
       "      <td>watch video online opensubtitles free browser ...</td>\n",
       "      <td>[watch video online opensubtitles free browser...</td>\n",
       "    </tr>\n",
       "    <tr>\n",
       "      <th>4</th>\n",
       "      <td>9180600</td>\n",
       "      <td>broker.(2022).eng.1cd</td>\n",
       "      <td>watch video online opensubtitles free browser ...</td>\n",
       "      <td>[watch video online opensubtitles free browser...</td>\n",
       "    </tr>\n",
       "    <tr>\n",
       "      <th>...</th>\n",
       "      <td>...</td>\n",
       "      <td>...</td>\n",
       "      <td>...</td>\n",
       "      <td>...</td>\n",
       "    </tr>\n",
       "    <tr>\n",
       "      <th>24744</th>\n",
       "      <td>9279492</td>\n",
       "      <td>scorpion.s04.e15.wave.goodbye.(2018).eng.1cd</td>\n",
       "      <td>walterpreviously scorpion toby thats quincy be...</td>\n",
       "      <td>[walterpreviously scorpion toby thats quincy b...</td>\n",
       "    </tr>\n",
       "    <tr>\n",
       "      <th>24745</th>\n",
       "      <td>9279493</td>\n",
       "      <td>scorpion.s04.e16.nerd.wind.fire.(2018).eng.1cd</td>\n",
       "      <td>walterpreviously scorpion hey patty made cool ...</td>\n",
       "      <td>[walterpreviously scorpion hey patty made cool...</td>\n",
       "    </tr>\n",
       "    <tr>\n",
       "      <th>24746</th>\n",
       "      <td>9279494</td>\n",
       "      <td>scorpion.s04.e17.dumbster.fire.(2018).eng.1cd</td>\n",
       "      <td>walterpreviously scorpion whats thing happy al...</td>\n",
       "      <td>[walterpreviously scorpion whats thing happy a...</td>\n",
       "    </tr>\n",
       "    <tr>\n",
       "      <th>24747</th>\n",
       "      <td>9279495</td>\n",
       "      <td>scorpion.s04.e18.dork.day.afternoon.(2018).eng...</td>\n",
       "      <td>kid well run time well make youll drive lead w...</td>\n",
       "      <td>[kid well run time well make youll drive lead ...</td>\n",
       "    </tr>\n",
       "    <tr>\n",
       "      <th>24748</th>\n",
       "      <td>9279496</td>\n",
       "      <td>scorpion.s04.e19.gator.done.(2018).eng.1cd</td>\n",
       "      <td>walterpreviously scorpion entire school career...</td>\n",
       "      <td>[walterpreviously scorpion entire school caree...</td>\n",
       "    </tr>\n",
       "  </tbody>\n",
       "</table>\n",
       "<p>24749 rows × 4 columns</p>\n",
       "</div>"
      ],
      "text/plain": [
       "           num                                               name  \\\n",
       "0      9180533                         the.message.(1976).eng.1cd   \n",
       "1      9180583  here.comes.the.grump.s01.e09.joltin.jack.in.bo...   \n",
       "2      9180592    yumis.cells.s02.e13.episode.2.13.(2022).eng.1cd   \n",
       "3      9180594    yumis.cells.s02.e14.episode.2.14.(2022).eng.1cd   \n",
       "4      9180600                              broker.(2022).eng.1cd   \n",
       "...        ...                                                ...   \n",
       "24744  9279492       scorpion.s04.e15.wave.goodbye.(2018).eng.1cd   \n",
       "24745  9279493     scorpion.s04.e16.nerd.wind.fire.(2018).eng.1cd   \n",
       "24746  9279494      scorpion.s04.e17.dumbster.fire.(2018).eng.1cd   \n",
       "24747  9279495  scorpion.s04.e18.dork.day.afternoon.(2018).eng...   \n",
       "24748  9279496         scorpion.s04.e19.gator.done.(2018).eng.1cd   \n",
       "\n",
       "                                            file_content  \\\n",
       "0      watch video online opensubtitles free browser ...   \n",
       "1      ah theres princess dawn terry blooney looney s...   \n",
       "2      yumis cells episode extremely polite yumi yumi...   \n",
       "3      watch video online opensubtitles free browser ...   \n",
       "4      watch video online opensubtitles free browser ...   \n",
       "...                                                  ...   \n",
       "24744  walterpreviously scorpion toby thats quincy be...   \n",
       "24745  walterpreviously scorpion hey patty made cool ...   \n",
       "24746  walterpreviously scorpion whats thing happy al...   \n",
       "24747  kid well run time well make youll drive lead w...   \n",
       "24748  walterpreviously scorpion entire school career...   \n",
       "\n",
       "                                               new_chunk  \n",
       "0      [watch video online opensubtitles free browser...  \n",
       "1      [ah theres princess dawn terry blooney looney ...  \n",
       "2      [yumis cells episode extremely polite yumi yum...  \n",
       "3      [watch video online opensubtitles free browser...  \n",
       "4      [watch video online opensubtitles free browser...  \n",
       "...                                                  ...  \n",
       "24744  [walterpreviously scorpion toby thats quincy b...  \n",
       "24745  [walterpreviously scorpion hey patty made cool...  \n",
       "24746  [walterpreviously scorpion whats thing happy a...  \n",
       "24747  [kid well run time well make youll drive lead ...  \n",
       "24748  [walterpreviously scorpion entire school caree...  \n",
       "\n",
       "[24749 rows x 4 columns]"
      ]
     },
     "execution_count": 34,
     "metadata": {},
     "output_type": "execute_result"
    }
   ],
   "source": [
    "thirty_percent_df"
   ]
  },
  {
   "cell_type": "code",
   "execution_count": 35,
   "id": "481bfe3e",
   "metadata": {},
   "outputs": [],
   "source": [
    "from sentence_transformers import SentenceTransformer"
   ]
  },
  {
   "cell_type": "code",
   "execution_count": 36,
   "id": "d826a5bf",
   "metadata": {},
   "outputs": [],
   "source": [
    "model = SentenceTransformer(\"all-MiniLM-L6-v2\")"
   ]
  },
  {
   "cell_type": "code",
   "execution_count": 37,
   "id": "aaa7fe8c",
   "metadata": {},
   "outputs": [
    {
     "data": {
      "text/plain": [
       "SentenceTransformer(\n",
       "  (0): Transformer({'max_seq_length': 256, 'do_lower_case': False}) with Transformer model: BertModel \n",
       "  (1): Pooling({'word_embedding_dimension': 384, 'pooling_mode_cls_token': False, 'pooling_mode_mean_tokens': True, 'pooling_mode_max_tokens': False, 'pooling_mode_mean_sqrt_len_tokens': False, 'pooling_mode_weightedmean_tokens': False, 'pooling_mode_lasttoken': False, 'include_prompt': True})\n",
       "  (2): Normalize()\n",
       ")"
      ]
     },
     "execution_count": 37,
     "metadata": {},
     "output_type": "execute_result"
    }
   ],
   "source": [
    "model"
   ]
  },
  {
   "cell_type": "code",
   "execution_count": 38,
   "id": "89948913",
   "metadata": {},
   "outputs": [
    {
     "data": {
      "text/html": [
       "<div>\n",
       "<style scoped>\n",
       "    .dataframe tbody tr th:only-of-type {\n",
       "        vertical-align: middle;\n",
       "    }\n",
       "\n",
       "    .dataframe tbody tr th {\n",
       "        vertical-align: top;\n",
       "    }\n",
       "\n",
       "    .dataframe thead th {\n",
       "        text-align: right;\n",
       "    }\n",
       "</style>\n",
       "<table border=\"1\" class=\"dataframe\">\n",
       "  <thead>\n",
       "    <tr style=\"text-align: right;\">\n",
       "      <th></th>\n",
       "      <th>num</th>\n",
       "      <th>name</th>\n",
       "      <th>file_content</th>\n",
       "      <th>new_chunk</th>\n",
       "    </tr>\n",
       "  </thead>\n",
       "  <tbody>\n",
       "    <tr>\n",
       "      <th>0</th>\n",
       "      <td>9180533</td>\n",
       "      <td>the.message.(1976).eng.1cd</td>\n",
       "      <td>watch video online opensubtitles free browser ...</td>\n",
       "      <td>[watch video online opensubtitles free browser...</td>\n",
       "    </tr>\n",
       "    <tr>\n",
       "      <th>1</th>\n",
       "      <td>9180583</td>\n",
       "      <td>here.comes.the.grump.s01.e09.joltin.jack.in.bo...</td>\n",
       "      <td>ah theres princess dawn terry blooney looney s...</td>\n",
       "      <td>[ah theres princess dawn terry blooney looney ...</td>\n",
       "    </tr>\n",
       "    <tr>\n",
       "      <th>2</th>\n",
       "      <td>9180592</td>\n",
       "      <td>yumis.cells.s02.e13.episode.2.13.(2022).eng.1cd</td>\n",
       "      <td>yumis cells episode extremely polite yumi yumi...</td>\n",
       "      <td>[yumis cells episode extremely polite yumi yum...</td>\n",
       "    </tr>\n",
       "    <tr>\n",
       "      <th>3</th>\n",
       "      <td>9180594</td>\n",
       "      <td>yumis.cells.s02.e14.episode.2.14.(2022).eng.1cd</td>\n",
       "      <td>watch video online opensubtitles free browser ...</td>\n",
       "      <td>[watch video online opensubtitles free browser...</td>\n",
       "    </tr>\n",
       "    <tr>\n",
       "      <th>4</th>\n",
       "      <td>9180600</td>\n",
       "      <td>broker.(2022).eng.1cd</td>\n",
       "      <td>watch video online opensubtitles free browser ...</td>\n",
       "      <td>[watch video online opensubtitles free browser...</td>\n",
       "    </tr>\n",
       "    <tr>\n",
       "      <th>...</th>\n",
       "      <td>...</td>\n",
       "      <td>...</td>\n",
       "      <td>...</td>\n",
       "      <td>...</td>\n",
       "    </tr>\n",
       "    <tr>\n",
       "      <th>24744</th>\n",
       "      <td>9279492</td>\n",
       "      <td>scorpion.s04.e15.wave.goodbye.(2018).eng.1cd</td>\n",
       "      <td>walterpreviously scorpion toby thats quincy be...</td>\n",
       "      <td>[walterpreviously scorpion toby thats quincy b...</td>\n",
       "    </tr>\n",
       "    <tr>\n",
       "      <th>24745</th>\n",
       "      <td>9279493</td>\n",
       "      <td>scorpion.s04.e16.nerd.wind.fire.(2018).eng.1cd</td>\n",
       "      <td>walterpreviously scorpion hey patty made cool ...</td>\n",
       "      <td>[walterpreviously scorpion hey patty made cool...</td>\n",
       "    </tr>\n",
       "    <tr>\n",
       "      <th>24746</th>\n",
       "      <td>9279494</td>\n",
       "      <td>scorpion.s04.e17.dumbster.fire.(2018).eng.1cd</td>\n",
       "      <td>walterpreviously scorpion whats thing happy al...</td>\n",
       "      <td>[walterpreviously scorpion whats thing happy a...</td>\n",
       "    </tr>\n",
       "    <tr>\n",
       "      <th>24747</th>\n",
       "      <td>9279495</td>\n",
       "      <td>scorpion.s04.e18.dork.day.afternoon.(2018).eng...</td>\n",
       "      <td>kid well run time well make youll drive lead w...</td>\n",
       "      <td>[kid well run time well make youll drive lead ...</td>\n",
       "    </tr>\n",
       "    <tr>\n",
       "      <th>24748</th>\n",
       "      <td>9279496</td>\n",
       "      <td>scorpion.s04.e19.gator.done.(2018).eng.1cd</td>\n",
       "      <td>walterpreviously scorpion entire school career...</td>\n",
       "      <td>[walterpreviously scorpion entire school caree...</td>\n",
       "    </tr>\n",
       "  </tbody>\n",
       "</table>\n",
       "<p>24749 rows × 4 columns</p>\n",
       "</div>"
      ],
      "text/plain": [
       "           num                                               name  \\\n",
       "0      9180533                         the.message.(1976).eng.1cd   \n",
       "1      9180583  here.comes.the.grump.s01.e09.joltin.jack.in.bo...   \n",
       "2      9180592    yumis.cells.s02.e13.episode.2.13.(2022).eng.1cd   \n",
       "3      9180594    yumis.cells.s02.e14.episode.2.14.(2022).eng.1cd   \n",
       "4      9180600                              broker.(2022).eng.1cd   \n",
       "...        ...                                                ...   \n",
       "24744  9279492       scorpion.s04.e15.wave.goodbye.(2018).eng.1cd   \n",
       "24745  9279493     scorpion.s04.e16.nerd.wind.fire.(2018).eng.1cd   \n",
       "24746  9279494      scorpion.s04.e17.dumbster.fire.(2018).eng.1cd   \n",
       "24747  9279495  scorpion.s04.e18.dork.day.afternoon.(2018).eng...   \n",
       "24748  9279496         scorpion.s04.e19.gator.done.(2018).eng.1cd   \n",
       "\n",
       "                                            file_content  \\\n",
       "0      watch video online opensubtitles free browser ...   \n",
       "1      ah theres princess dawn terry blooney looney s...   \n",
       "2      yumis cells episode extremely polite yumi yumi...   \n",
       "3      watch video online opensubtitles free browser ...   \n",
       "4      watch video online opensubtitles free browser ...   \n",
       "...                                                  ...   \n",
       "24744  walterpreviously scorpion toby thats quincy be...   \n",
       "24745  walterpreviously scorpion hey patty made cool ...   \n",
       "24746  walterpreviously scorpion whats thing happy al...   \n",
       "24747  kid well run time well make youll drive lead w...   \n",
       "24748  walterpreviously scorpion entire school career...   \n",
       "\n",
       "                                               new_chunk  \n",
       "0      [watch video online opensubtitles free browser...  \n",
       "1      [ah theres princess dawn terry blooney looney ...  \n",
       "2      [yumis cells episode extremely polite yumi yum...  \n",
       "3      [watch video online opensubtitles free browser...  \n",
       "4      [watch video online opensubtitles free browser...  \n",
       "...                                                  ...  \n",
       "24744  [walterpreviously scorpion toby thats quincy b...  \n",
       "24745  [walterpreviously scorpion hey patty made cool...  \n",
       "24746  [walterpreviously scorpion whats thing happy a...  \n",
       "24747  [kid well run time well make youll drive lead ...  \n",
       "24748  [walterpreviously scorpion entire school caree...  \n",
       "\n",
       "[24749 rows x 4 columns]"
      ]
     },
     "execution_count": 38,
     "metadata": {},
     "output_type": "execute_result"
    }
   ],
   "source": [
    "thirty_percent_df"
   ]
  },
  {
   "cell_type": "code",
   "execution_count": 41,
   "id": "c5e8f1e4",
   "metadata": {},
   "outputs": [],
   "source": [
    "def embedding(text):\n",
    "    return model.encode(text)"
   ]
  },
  {
   "cell_type": "code",
   "execution_count": null,
   "id": "802ee6db",
   "metadata": {},
   "outputs": [],
   "source": []
  },
  {
   "cell_type": "code",
   "execution_count": 43,
   "id": "d25e0f93",
   "metadata": {},
   "outputs": [],
   "source": [
    "thirty_percent_df.to_csv(\"thirty.csv\")"
   ]
  },
  {
   "cell_type": "code",
   "execution_count": 2,
   "id": "3b5274de",
   "metadata": {},
   "outputs": [],
   "source": [
    "import chromadb\n",
    "client = chromadb.PersistentClient(path=\"C:\\\\Users\\\\sspon\\\\Projects\")"
   ]
  },
  {
   "cell_type": "code",
   "execution_count": 6,
   "id": "80063ba1",
   "metadata": {},
   "outputs": [],
   "source": [
    "# list all collections\n",
    "client.list_collections()\n",
    "\n",
    "# make a new collection\n",
    "collection = client.create_collection(\"my_collection\")\n",
    "\n",
    "# # get an existing collection\n",
    "# collection = client.get_collection(\"testname\")\n",
    "\n",
    "# # get a collection or create if it doesn't exist already\n",
    "# collection = client.get_or_create_collection(\"testname\")\n",
    "\n",
    "# # delete a collection\n",
    "# client.delete_collection(\"testname\")"
   ]
  },
  {
   "cell_type": "code",
   "execution_count": 7,
   "id": "0682aba7",
   "metadata": {},
   "outputs": [
    {
     "data": {
      "text/plain": [
       "[Collection(name=testname)]"
      ]
     },
     "execution_count": 7,
     "metadata": {},
     "output_type": "execute_result"
    }
   ],
   "source": [
    "client.list_collections()\n"
   ]
  },
  {
   "cell_type": "code",
   "execution_count": 8,
   "id": "8eb41205",
   "metadata": {},
   "outputs": [],
   "source": [
    "collection.add(\n",
    "    embeddings=embeddings,\n",
    "    documents=documents,\n",
    "    ids=ids,\n",
    "    metadatas=metadatas\n",
    "    \n",
    ")"
   ]
  },
  {
   "cell_type": "code",
   "execution_count": 9,
   "id": "69d699a6",
   "metadata": {},
   "outputs": [
    {
     "data": {
      "text/plain": [
       "Collection(name=testname)"
      ]
     },
     "execution_count": 9,
     "metadata": {},
     "output_type": "execute_result"
    }
   ],
   "source": [
    "collection"
   ]
  }
 ],
 "metadata": {
  "kernelspec": {
   "display_name": "Python 3 (ipykernel)",
   "language": "python",
   "name": "python3"
  },
  "language_info": {
   "codemirror_mode": {
    "name": "ipython",
    "version": 3
   },
   "file_extension": ".py",
   "mimetype": "text/x-python",
   "name": "python",
   "nbconvert_exporter": "python",
   "pygments_lexer": "ipython3",
   "version": "3.10.9"
  }
 },
 "nbformat": 4,
 "nbformat_minor": 5
}
